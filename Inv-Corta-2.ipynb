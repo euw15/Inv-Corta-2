{
 "cells": [
  {
   "cell_type": "markdown",
   "metadata": {},
   "source": [
    "# Inv-Corta-2"
   ]
  },
  {
   "cell_type": "markdown",
   "metadata": {},
   "source": [
    "Hecho por: Edward Umaña Williams, 201128403"
   ]
  },
  {
   "cell_type": "markdown",
   "metadata": {},
   "source": [
    "## Naturaleza del Data set"
   ]
  },
  {
   "cell_type": "markdown",
   "metadata": {},
   "source": [
    "Durante dos años, apasionados de la movilidad eléctrica en Costa Rica han recolectado datos sobre el consumo de potencia de un vehículo eléctrico. Registrando recorridos, velocidad, distancias, hora, consumo de energía entre otros.\n",
    "\n",
    "Uno de los retos actuales de los vehículos eléctricos, son las estimaciones de rango. Ya que la autonomía del vehículo se ve afectados por una gran cantidad de variables como la elevación, descenso, velocidades e incluso condiciones climaticas.\n",
    "\n",
    "Para esta tarea utilizaremos este data set para predecir el consumo de potencia de un vehiculo electrico dadas las características de la ruta a utilizar. Para así determinar el porcentaje de batería a utilizar.\n"
   ]
  },
  {
   "cell_type": "markdown",
   "metadata": {},
   "source": [
    "## Aprendizaje supervizado"
   ]
  },
  {
   "cell_type": "markdown",
   "metadata": {},
   "source": [
    "Importamos todos la bibliotecas a utilizar"
   ]
  },
  {
   "cell_type": "code",
   "execution_count": 1,
   "metadata": {},
   "outputs": [],
   "source": [
    "import pandas as pd\n",
    "import os\n",
    "import numpy as np\n",
    "from os import listdir\n",
    "from os.path import isfile, join\n",
    "%matplotlib inline\n",
    "import matplotlib.pyplot as plt\n",
    "from sklearn.model_selection import train_test_split\n",
    "from sklearn import datasets\n",
    "from sklearn import linear_model as LinealModel\n",
    "from sklearn.metrics import mean_squared_error, r2_score\n",
    "from pandas.plotting import scatter_matrix\n",
    "from sklearn.ensemble import RandomForestRegressor\n",
    "from sklearn.datasets import make_regression\n",
    "from sklearn import svm\n",
    "from sklearn.neighbors import RadiusNeighborsRegressor\n",
    "from sklearn.linear_model import LogisticRegression\n",
    "from sklearn.ensemble import GradientBoostingRegressor\n",
    "from sklearn.preprocessing import PolynomialFeatures\n",
    "from sklearn import preprocessing"
   ]
  },
  {
   "cell_type": "markdown",
   "metadata": {},
   "source": [
    "## Limpieza de datos"
   ]
  },
  {
   "cell_type": "markdown",
   "metadata": {},
   "source": [
    "Primero procedemos a cargar los datos para hacer una limpieza general de los datos, debido a que se conocen varios problemas durante la obtención de los mismos."
   ]
  },
  {
   "cell_type": "code",
   "execution_count": 2,
   "metadata": {},
   "outputs": [],
   "source": [
    "CAR_PATH = os.path.join(\"data\", \"car\")\n",
    "\n",
    "def Load_CarData(fileName):\n",
    "    csv_path = os.path.join(CAR_PATH, fileName)\n",
    "    return pd.read_csv(csv_path)"
   ]
  },
  {
   "cell_type": "code",
   "execution_count": 3,
   "metadata": {},
   "outputs": [],
   "source": [
    "CarDataSet = Load_CarData(\"Resumen.csv\")"
   ]
  },
  {
   "cell_type": "code",
   "execution_count": 4,
   "metadata": {},
   "outputs": [
    {
     "data": {
      "text/html": [
       "<div>\n",
       "<style scoped>\n",
       "    .dataframe tbody tr th:only-of-type {\n",
       "        vertical-align: middle;\n",
       "    }\n",
       "\n",
       "    .dataframe tbody tr th {\n",
       "        vertical-align: top;\n",
       "    }\n",
       "\n",
       "    .dataframe thead th {\n",
       "        text-align: right;\n",
       "    }\n",
       "</style>\n",
       "<table border=\"1\" class=\"dataframe\">\n",
       "  <thead>\n",
       "    <tr style=\"text-align: right;\">\n",
       "      <th></th>\n",
       "      <th>Archivo</th>\n",
       "      <th>SOC_INIT</th>\n",
       "      <th>SOC_END</th>\n",
       "      <th>DIF_SOC</th>\n",
       "      <th>POWER_CONSUMED</th>\n",
       "      <th>DISTANCIA</th>\n",
       "      <th>DURACION</th>\n",
       "      <th>VELOCIDAD_PROMEDIO</th>\n",
       "      <th>ELEVACION</th>\n",
       "      <th>DESCENSO</th>\n",
       "    </tr>\n",
       "  </thead>\n",
       "  <tbody>\n",
       "    <tr>\n",
       "      <th>0</th>\n",
       "      <td>Ride_1.csv</td>\n",
       "      <td>21.8513</td>\n",
       "      <td>22.0118</td>\n",
       "      <td>-0.1605</td>\n",
       "      <td>-80.0</td>\n",
       "      <td>0.000</td>\n",
       "      <td>1</td>\n",
       "      <td>0.00</td>\n",
       "      <td>0</td>\n",
       "      <td>0</td>\n",
       "    </tr>\n",
       "    <tr>\n",
       "      <th>1</th>\n",
       "      <td>Ride_10.csv</td>\n",
       "      <td>39.6588</td>\n",
       "      <td>39.5568</td>\n",
       "      <td>0.1020</td>\n",
       "      <td>0.0</td>\n",
       "      <td>0.072</td>\n",
       "      <td>1</td>\n",
       "      <td>0.00</td>\n",
       "      <td>11</td>\n",
       "      <td>20</td>\n",
       "    </tr>\n",
       "    <tr>\n",
       "      <th>2</th>\n",
       "      <td>Ride_100.csv</td>\n",
       "      <td>53.0911</td>\n",
       "      <td>35.1072</td>\n",
       "      <td>17.9839</td>\n",
       "      <td>3920.0</td>\n",
       "      <td>17.138</td>\n",
       "      <td>44</td>\n",
       "      <td>38.80</td>\n",
       "      <td>579</td>\n",
       "      <td>572</td>\n",
       "    </tr>\n",
       "    <tr>\n",
       "      <th>3</th>\n",
       "      <td>Ride_101.csv</td>\n",
       "      <td>62.0617</td>\n",
       "      <td>53.2632</td>\n",
       "      <td>8.7985</td>\n",
       "      <td>1840.0</td>\n",
       "      <td>7.483</td>\n",
       "      <td>35</td>\n",
       "      <td>19.44</td>\n",
       "      <td>342</td>\n",
       "      <td>232</td>\n",
       "    </tr>\n",
       "    <tr>\n",
       "      <th>4</th>\n",
       "      <td>Ride_102.csv</td>\n",
       "      <td>44.0433</td>\n",
       "      <td>40.4309</td>\n",
       "      <td>3.6124</td>\n",
       "      <td>640.0</td>\n",
       "      <td>6.794</td>\n",
       "      <td>11</td>\n",
       "      <td>41.95</td>\n",
       "      <td>122</td>\n",
       "      <td>238</td>\n",
       "    </tr>\n",
       "  </tbody>\n",
       "</table>\n",
       "</div>"
      ],
      "text/plain": [
       "        Archivo  SOC_INIT  SOC_END  DIF_SOC  POWER_CONSUMED  DISTANCIA  \\\n",
       "0    Ride_1.csv   21.8513  22.0118  -0.1605           -80.0      0.000   \n",
       "1   Ride_10.csv   39.6588  39.5568   0.1020             0.0      0.072   \n",
       "2  Ride_100.csv   53.0911  35.1072  17.9839          3920.0     17.138   \n",
       "3  Ride_101.csv   62.0617  53.2632   8.7985          1840.0      7.483   \n",
       "4  Ride_102.csv   44.0433  40.4309   3.6124           640.0      6.794   \n",
       "\n",
       "   DURACION  VELOCIDAD_PROMEDIO  ELEVACION  DESCENSO  \n",
       "0         1                0.00          0         0  \n",
       "1         1                0.00         11        20  \n",
       "2        44               38.80        579       572  \n",
       "3        35               19.44        342       232  \n",
       "4        11               41.95        122       238  "
      ]
     },
     "execution_count": 4,
     "metadata": {},
     "output_type": "execute_result"
    }
   ],
   "source": [
    "CarDataSet.head()"
   ]
  },
  {
   "cell_type": "markdown",
   "metadata": {},
   "source": [
    "Durante la recolección de los datos se ingresaron datos corructos que poseen distancias de mas de 8000kms que no se realizaron. \n",
    "\n",
    "Además se ingresaron procesos de carga del vehículo como si este fuera un recorrido de 0kms donde se genera toda la energía que puede almacenar la batería.\n",
    "\n",
    "Por lo tanto se eliminan las distancias mayores a 100kms y consumos de energía positivos"
   ]
  },
  {
   "cell_type": "code",
   "execution_count": 5,
   "metadata": {},
   "outputs": [],
   "source": [
    "CarDataSet = CarDataSet[CarDataSet['DISTANCIA'] > 1]\n",
    "CarDataSet = CarDataSet[CarDataSet['DISTANCIA'] < 2000]\n",
    "CarDataSet = CarDataSet[CarDataSet['POWER_CONSUMED'] > 0]"
   ]
  },
  {
   "cell_type": "code",
   "execution_count": 6,
   "metadata": {},
   "outputs": [
    {
     "name": "stdout",
     "output_type": "stream",
     "text": [
      "<class 'pandas.core.frame.DataFrame'>\n",
      "Int64Index: 240 entries, 2 to 426\n",
      "Data columns (total 10 columns):\n",
      "Archivo               240 non-null object\n",
      "SOC_INIT              240 non-null float64\n",
      "SOC_END               240 non-null float64\n",
      "DIF_SOC               240 non-null float64\n",
      "POWER_CONSUMED        240 non-null float64\n",
      "DISTANCIA             240 non-null float64\n",
      "DURACION              240 non-null int64\n",
      "VELOCIDAD_PROMEDIO    240 non-null float64\n",
      "ELEVACION             240 non-null int64\n",
      "DESCENSO              240 non-null int64\n",
      "dtypes: float64(6), int64(3), object(1)\n",
      "memory usage: 20.6+ KB\n"
     ]
    }
   ],
   "source": [
    "CarDataSet.info()"
   ]
  },
  {
   "cell_type": "markdown",
   "metadata": {},
   "source": [
    "Por ultimo algunos atributos, no agregan valor para la estimación del consumo de energía como el nombre del archivo, \n",
    "SOC Init, SOC Final y Dif SOC. Por lo tanto procedemos a eliminarlos."
   ]
  },
  {
   "cell_type": "code",
   "execution_count": 7,
   "metadata": {},
   "outputs": [
    {
     "name": "stdout",
     "output_type": "stream",
     "text": [
      "<class 'pandas.core.frame.DataFrame'>\n",
      "Int64Index: 240 entries, 2 to 426\n",
      "Data columns (total 6 columns):\n",
      "POWER_CONSUMED        240 non-null float64\n",
      "DISTANCIA             240 non-null float64\n",
      "DURACION              240 non-null int64\n",
      "VELOCIDAD_PROMEDIO    240 non-null float64\n",
      "ELEVACION             240 non-null int64\n",
      "DESCENSO              240 non-null int64\n",
      "dtypes: float64(3), int64(3)\n",
      "memory usage: 13.1 KB\n"
     ]
    }
   ],
   "source": [
    "CarDataSet = CarDataSet.drop(['SOC_INIT'],axis=1)\n",
    "CarDataSet = CarDataSet.drop(['SOC_END'],axis=1)\n",
    "CarDataSet = CarDataSet.drop(['Archivo'],axis=1)\n",
    "CarDataSet = CarDataSet.drop(['DIF_SOC'],axis=1)\n",
    "CarDataSet.info()"
   ]
  },
  {
   "cell_type": "markdown",
   "metadata": {},
   "source": [
    "## Analisis de datos"
   ]
  },
  {
   "cell_type": "markdown",
   "metadata": {},
   "source": [
    "Analizamos graficamente las posibles relaciones de los atributos con el\n",
    "consumo de energía"
   ]
  },
  {
   "cell_type": "code",
   "execution_count": 8,
   "metadata": {},
   "outputs": [
    {
     "data": {
      "text/plain": [
       "<matplotlib.axes._subplots.AxesSubplot at 0xc416c18>"
      ]
     },
     "execution_count": 8,
     "metadata": {},
     "output_type": "execute_result"
    },
    {
     "data": {
      "image/png": "[encoded data removed]",
      "text/plain": [
       "<Figure size 432x288 with 1 Axes>"
      ]
     },
     "metadata": {
      "needs_background": "light"
     },
     "output_type": "display_data"
    },
    {
     "data": {
      "image/png": "[encoded data removed]",
      "text/plain": [
       "<Figure size 432x288 with 1 Axes>"
      ]
     },
     "metadata": {
      "needs_background": "light"
     },
     "output_type": "display_data"
    },
    {
     "data": {
      "image/png": "[encoded data removed]",
      "text/plain": [
       "<Figure size 432x288 with 1 Axes>"
      ]
     },
     "metadata": {
      "needs_background": "light"
     },
     "output_type": "display_data"
    },
    {
     "data": {
      "image/png": "[encoded data removed]",
      "text/plain": [
       "<Figure size 432x288 with 1 Axes>"
      ]
     },
     "metadata": {
      "needs_background": "light"
     },
     "output_type": "display_data"
    },
    {
     "data": {
      "image/png": "[encoded data removed]",
      "text/plain": [
       "<Figure size 432x288 with 1 Axes>"
      ]
     },
     "metadata": {
      "needs_background": "light"
     },
     "output_type": "display_data"
    }
   ],
   "source": [
    "CarDataSet.plot(kind=\"scatter\", x=\"ELEVACION\",y=\"POWER_CONSUMED\")\n",
    "CarDataSet.plot(kind=\"scatter\", x=\"DISTANCIA\",y=\"POWER_CONSUMED\")\n",
    "CarDataSet.plot(kind=\"scatter\", x=\"DURACION\",y=\"POWER_CONSUMED\")\n",
    "CarDataSet.plot(kind=\"scatter\", x=\"VELOCIDAD_PROMEDIO\",y=\"POWER_CONSUMED\")\n",
    "CarDataSet.plot(kind=\"scatter\", x=\"DESCENSO\",y=\"POWER_CONSUMED\")"
   ]
  },
  {
   "cell_type": "markdown",
   "metadata": {},
   "source": [
    "De las graficas anteriores podemos observar que la distancia, elevación y duración presentan un comportamiento esperado segun la naturaleza de los datos,  mayor cantidad mayor energia requerida. \n",
    "\n",
    "Por otra parte la velocidad promedio no parece estar siendo un factor determinante en el consumo.\n",
    "\n",
    "El desenso presenta un comportamiento no esperado. Ya que los vehiculos electricos regeneran energía al descender se esperaria que a mayor descenso menor energía consumida es necesaria. \n",
    "\n",
    "Analizando más a fondo los datos, considerar el descenso y asenso por aparte no genera mucho valor, pues en un mismo recorrido puede descender mucho pero subir todavia más y esto no reflejaria el aporte real del descenso."
   ]
  },
  {
   "cell_type": "markdown",
   "metadata": {},
   "source": [
    "Se procede a generar un nuevo atributo que mezcle la elevación con el descenso"
   ]
  },
  {
   "cell_type": "code",
   "execution_count": 9,
   "metadata": {},
   "outputs": [],
   "source": [
    "CarDataSet[\"desc_elev\"] = CarDataSet[\"ELEVACION\"]-CarDataSet[\"DESCENSO\"]"
   ]
  },
  {
   "cell_type": "code",
   "execution_count": 10,
   "metadata": {},
   "outputs": [
    {
     "data": {
      "text/plain": [
       "<matplotlib.axes._subplots.AxesSubplot at 0xc478a58>"
      ]
     },
     "execution_count": 10,
     "metadata": {},
     "output_type": "execute_result"
    },
    {
     "data": {
      "image/png": "[encoded data removed]",
      "text/plain": [
       "<Figure size 432x288 with 1 Axes>"
      ]
     },
     "metadata": {
      "needs_background": "light"
     },
     "output_type": "display_data"
    }
   ],
   "source": [
    "CarDataSet.plot(kind=\"scatter\", x=\"desc_elev\",y=\"POWER_CONSUMED\")"
   ]
  },
  {
   "cell_type": "markdown",
   "metadata": {},
   "source": [
    "Tan bien vamos a verificar la correlación de los datos"
   ]
  },
  {
   "cell_type": "code",
   "execution_count": 11,
   "metadata": {},
   "outputs": [
    {
     "data": {
      "text/plain": [
       "POWER_CONSUMED        1.000000\n",
       "ELEVACION             0.880069\n",
       "desc_elev             0.733575\n",
       "DISTANCIA             0.726500\n",
       "DURACION              0.642480\n",
       "DESCENSO              0.368569\n",
       "VELOCIDAD_PROMEDIO    0.126973\n",
       "Name: POWER_CONSUMED, dtype: float64"
      ]
     },
     "execution_count": 11,
     "metadata": {},
     "output_type": "execute_result"
    }
   ],
   "source": [
    "corr_matrix = CarDataSet.corr()\n",
    "corr_matrix[\"POWER_CONSUMED\"].sort_values(ascending=False)"
   ]
  },
  {
   "cell_type": "markdown",
   "metadata": {},
   "source": [
    "Debido a la baja correlación y a que en las graficas no se logra determinar \n",
    "relación con el consumo de potencia vamos a eliminar la velocidad promedio \n",
    "para el entrenamiento. De igual manera como ya se tomo en cuenta el escenso al mezclarla con la elevación se procede a eliminar descenso y elevación."
   ]
  },
  {
   "cell_type": "code",
   "execution_count": 12,
   "metadata": {},
   "outputs": [],
   "source": [
    "CarDataSet = CarDataSet.drop(['ELEVACION'],axis=1)\n",
    "CarDataSet = CarDataSet.drop(['DESCENSO'],axis=1)\n",
    "CarDataSet = CarDataSet.drop(['VELOCIDAD_PROMEDIO'],axis=1)"
   ]
  },
  {
   "cell_type": "markdown",
   "metadata": {},
   "source": [
    "Verificamos los atributos"
   ]
  },
  {
   "cell_type": "code",
   "execution_count": 13,
   "metadata": {},
   "outputs": [
    {
     "name": "stdout",
     "output_type": "stream",
     "text": [
      "<class 'pandas.core.frame.DataFrame'>\n",
      "Int64Index: 240 entries, 2 to 426\n",
      "Data columns (total 4 columns):\n",
      "POWER_CONSUMED    240 non-null float64\n",
      "DISTANCIA         240 non-null float64\n",
      "DURACION          240 non-null int64\n",
      "desc_elev         240 non-null int64\n",
      "dtypes: float64(2), int64(2)\n",
      "memory usage: 9.4 KB\n"
     ]
    }
   ],
   "source": [
    "CarDataSet.info()"
   ]
  },
  {
   "cell_type": "markdown",
   "metadata": {},
   "source": [
    "## Funciones generales\n",
    "\n",
    "Creamos algunas funciones generales que se utilizaran durante los 6 aproximaciones."
   ]
  },
  {
   "cell_type": "code",
   "execution_count": 14,
   "metadata": {},
   "outputs": [],
   "source": [
    "def split_labels(dataset):\n",
    "    Labels = dataset[\"POWER_CONSUMED\"].copy()\n",
    "    Atributes = dataset.drop([\"POWER_CONSUMED\"],axis=1)\n",
    "    return Labels , Atributes"
   ]
  },
  {
   "cell_type": "code",
   "execution_count": 15,
   "metadata": {},
   "outputs": [],
   "source": [
    "def GetCleanDataSet():\n",
    "    TempDataSet = Load_CarData(\"Resumen.csv\")\n",
    "    TempDataSet = TempDataSet[TempDataSet['DISTANCIA'] > 1]\n",
    "    TempDataSet = TempDataSet[TempDataSet['DISTANCIA'] < 2000]\n",
    "    TempDataSet = TempDataSet[TempDataSet['POWER_CONSUMED'] > 0]\n",
    "    TempDataSet = TempDataSet.drop(['SOC_INIT'],axis=1)\n",
    "    TempDataSet = TempDataSet.drop(['SOC_END'],axis=1)\n",
    "    TempDataSet = TempDataSet.drop(['Archivo'],axis=1)\n",
    "    TempDataSet = TempDataSet.drop(['DIF_SOC'],axis=1)\n",
    "    TempDataSet[\"desc_elev\"] = TempDataSet[\"ELEVACION\"]-TempDataSet[\"DESCENSO\"]\n",
    "    TempDataSet = TempDataSet.drop(['ELEVACION'],axis=1)\n",
    "    TempDataSet = TempDataSet.drop(['DESCENSO'],axis=1)\n",
    "    TempDataSet = TempDataSet.drop(['VELOCIDAD_PROMEDIO'],axis=1)\n",
    "    return TempDataSet"
   ]
  },
  {
   "cell_type": "markdown",
   "metadata": {},
   "source": [
    "## 1.Ordinary Least Squares"
   ]
  },
  {
   "cell_type": "markdown",
   "metadata": {},
   "source": [
    "La regresión lineal utilizando minimos cuadrados es de las aproximaciones \n",
    "más sencillas que se pueden implementar. Donde busca los coeficientes que más se acerquen a los valores del dataset."
   ]
  },
  {
   "cell_type": "markdown",
   "metadata": {},
   "source": [
    "Procedemos a dividir el data set en training set y test set."
   ]
  },
  {
   "cell_type": "code",
   "execution_count": 57,
   "metadata": {},
   "outputs": [],
   "source": [
    "CarDataSet = GetCleanDataSet()\n",
    "\n",
    "Labels, Atributes = split_labels(CarDataSet)\n",
    "\n",
    "trainAtributes, testAtributes, trainLabels, testLabels = train_test_split(\n",
    "    Atributes, Labels, test_size=0.20)"
   ]
  },
  {
   "cell_type": "code",
   "execution_count": 58,
   "metadata": {},
   "outputs": [
    {
     "name": "stdout",
     "output_type": "stream",
     "text": [
      "Training Score: 0.8574895251469673\n",
      "Test score: 0.8383279837717741\n"
     ]
    }
   ],
   "source": [
    "#modelo\n",
    "linealRegression = LinealModel.LinearRegression(normalize = True , copy_X=True)\n",
    "linealRegression.fit(trainAtributes, trainLabels) \n",
    "    \n",
    "#training\n",
    "print(\"Training Score:\", linealRegression.score(trainAtributes, trainLabels))\n",
    "\n",
    "#test\n",
    "print(\"Test score:\", linealRegression.score(testAtributes, testLabels))\n"
   ]
  },
  {
   "cell_type": "markdown",
   "metadata": {},
   "source": [
    "La regresión lineal dio un resultado bastante aceptable para la alta dispersión\n",
    "que se observo en los datos durante el análisis de datos.\n",
    "\n",
    "Los trainings scores nos brindan un buen balance entre el training score y el test score"
   ]
  },
  {
   "cell_type": "markdown",
   "metadata": {},
   "source": [
    "## 2.LARS Lasso"
   ]
  },
  {
   "cell_type": "markdown",
   "metadata": {},
   "source": [
    "Otro modelo lineal muy utilizado es el de LARS significa Least Angle Regression \n",
    "que utiliza un método diferente al minimos cuadrados para optimizar los valores  "
   ]
  },
  {
   "cell_type": "code",
   "execution_count": 61,
   "metadata": {},
   "outputs": [
    {
     "name": "stdout",
     "output_type": "stream",
     "text": [
      "Train:  192 Test:  48\n"
     ]
    }
   ],
   "source": [
    "CarDataSet = GetCleanDataSet()\n",
    "\n",
    "Labels, Atributes = split_labels(CarDataSet)\n",
    "\n",
    "trainAtributes, testAtributes, trainLabels, testLabels = train_test_split(\n",
    "    Atributes, Labels, test_size=0.20)\n",
    "print(\"Train: \",len(trainAtributes),\"Test: \",len(testAtributes))"
   ]
  },
  {
   "cell_type": "markdown",
   "metadata": {},
   "source": [
    "Vamos a encontrar el mejor valor de Alpha para nuestro dataset"
   ]
  },
  {
   "cell_type": "code",
   "execution_count": 62,
   "metadata": {},
   "outputs": [
    {
     "data": {
      "text/plain": [
       "<matplotlib.legend.Legend at 0xedf8128>"
      ]
     },
     "execution_count": 62,
     "metadata": {},
     "output_type": "execute_result"
    },
    {
     "data": {
      "image/png": "[encoded data removed]",
      "text/plain": [
       "<Figure size 432x288 with 1 Axes>"
      ]
     },
     "metadata": {
      "needs_background": "light"
     },
     "output_type": "display_data"
    }
   ],
   "source": [
    "training_acc = []\n",
    "test_acc = []\n",
    "\n",
    "alphas = np.arange(0, 20, 1)\n",
    "for alpha in alphas:\n",
    "    #modelo\n",
    "    linealRegression = LinealModel.LassoLars(alpha=alpha, normalize=True)\n",
    "    linealRegression.fit(trainAtributes,trainLabels)\n",
    "    #training score\n",
    "    training_acc.append(linealRegression.score(trainAtributes, trainLabels))\n",
    "    #test score\n",
    "    test_acc.append(linealRegression.score(testAtributes, testLabels))\n",
    "plt.plot(alphas, training_acc, label=\"Training accuracy\")\n",
    "plt.plot(alphas, test_acc, label=\"Test accuracy\")\n",
    "plt.ylabel(\"Accuracy\")\n",
    "plt.xlabel(\"Alpha\")\n",
    "plt.legend()\n"
   ]
  },
  {
   "cell_type": "markdown",
   "metadata": {},
   "source": [
    "Por lo cual podemos determinar que un valot cercano a 5 es ideal para \n",
    "nuestro conjunto de datos."
   ]
  },
  {
   "cell_type": "code",
   "execution_count": 64,
   "metadata": {},
   "outputs": [
    {
     "name": "stdout",
     "output_type": "stream",
     "text": [
      "Training score:  0.8513049591888677\n",
      "Test score:  0.8501982443778029\n"
     ]
    }
   ],
   "source": [
    "#modelo\n",
    "linealRegression = LinealModel.LassoLars(alpha=5, normalize=True)\n",
    "linealRegression.fit(trainAtributes,trainLabels)\n",
    "\n",
    "#training score\n",
    "print(\"Training score: \",linealRegression.score(trainAtributes, trainLabels))\n",
    "\n",
    "#test score\n",
    "print(\"Test score: \",linealRegression.score(testAtributes, testLabels))\n"
   ]
  },
  {
   "cell_type": "markdown",
   "metadata": {},
   "source": [
    "Con esta configuración se obtuvo un resultado aceptable que mejoro ligeramente el obtenido por Least Squares"
   ]
  },
  {
   "cell_type": "markdown",
   "metadata": {},
   "source": [
    "## 3. Ramdon Forest Regression"
   ]
  },
  {
   "cell_type": "markdown",
   "metadata": {},
   "source": [
    "Ramdom Forest es un método de ensamble capaz de realizar regresiones y \n",
    "clasificaicones. El cual utiliza multiples arboles de desición con una \n",
    "técnica llamada Bootstrap aggretation.\n",
    "\n",
    "Lo que hace esta tecnica es entrenar los diferentes arboles con diferentes \n",
    "sub conjuntos del data set"
   ]
  },
  {
   "cell_type": "markdown",
   "metadata": {},
   "source": [
    "Obtenemos un nuevo dataset listo para trabajar"
   ]
  },
  {
   "cell_type": "code",
   "execution_count": 66,
   "metadata": {},
   "outputs": [
    {
     "name": "stdout",
     "output_type": "stream",
     "text": [
      "Train:  192 Test:  48\n"
     ]
    }
   ],
   "source": [
    "CarDataSet = GetCleanDataSet()\n",
    "\n",
    "Labels, Atributes = split_labels(CarDataSet)\n",
    "\n",
    "trainAtributes, testAtributes, trainLabels, testLabels = train_test_split(\n",
    "    Atributes, Labels, test_size=0.20)\n",
    "print(\"Train: \",len(trainAtributes),\"Test: \",len(testAtributes))"
   ]
  },
  {
   "cell_type": "markdown",
   "metadata": {},
   "source": [
    "En este caso vamos a variar la cantidad de estimadores que utilizaremos"
   ]
  },
  {
   "cell_type": "code",
   "execution_count": 67,
   "metadata": {},
   "outputs": [
    {
     "data": {
      "text/plain": [
       "<matplotlib.legend.Legend at 0xeed6f98>"
      ]
     },
     "execution_count": 67,
     "metadata": {},
     "output_type": "execute_result"
    },
    {
     "data": {
      "image/png": "[encoded data removed]",
      "text/plain": [
       "<Figure size 432x288 with 1 Axes>"
      ]
     },
     "metadata": {
      "needs_background": "light"
     },
     "output_type": "display_data"
    }
   ],
   "source": [
    "training_accuracy = []\n",
    "test_accuracy = []\n",
    "\n",
    "estimators = range(1, 100, 1)\n",
    "for estimator in estimators:\n",
    "    #modelo\n",
    "    regr = RandomForestRegressor(max_depth=1000, random_state=500, n_estimators=estimator)\n",
    "    regr.fit(trainAtributes,trainLabels)\n",
    "    #training score\n",
    "    training_accuracy.append(regr.score(trainAtributes, trainLabels))\n",
    "    #test score\n",
    "    test_accuracy.append(regr.score(testAtributes, testLabels))\n",
    "plt.plot(estimators, training_accuracy, label=\"Training accuracy\")\n",
    "plt.plot(estimators, test_accuracy, label=\"Test accuracy\")\n",
    "plt.ylabel(\"Accuracy\")\n",
    "plt.xlabel(\"# Estimators\")\n",
    "plt.legend()"
   ]
  },
  {
   "cell_type": "markdown",
   "metadata": {},
   "source": [
    "Ahora vamos a variar, el max depth"
   ]
  },
  {
   "cell_type": "code",
   "execution_count": 68,
   "metadata": {},
   "outputs": [
    {
     "data": {
      "text/plain": [
       "<matplotlib.legend.Legend at 0xef3dfd0>"
      ]
     },
     "execution_count": 68,
     "metadata": {},
     "output_type": "execute_result"
    },
    {
     "data": {
      "image/png": "[encoded data removed]",
      "text/plain": [
       "<Figure size 432x288 with 1 Axes>"
      ]
     },
     "metadata": {
      "needs_background": "light"
     },
     "output_type": "display_data"
    }
   ],
   "source": [
    "training_accuracy = []\n",
    "test_accuracy = []\n",
    "\n",
    "depths = range(1, 100, 1)\n",
    "for depth in depths:\n",
    "    #modelo\n",
    "    regr = RandomForestRegressor(max_depth=depth, random_state=500, n_estimators=40)\n",
    "    regr.fit(trainAtributes,trainLabels)\n",
    "    #training score\n",
    "    training_accuracy.append(regr.score(trainAtributes, trainLabels))\n",
    "    #test score\n",
    "    test_accuracy.append(regr.score(testAtributes, testLabels))\n",
    "plt.plot(depths, training_accuracy, label=\"Training accuracy\")\n",
    "plt.plot(depths, test_accuracy, label=\"Test accuracy\")\n",
    "plt.ylabel(\"Accuracy\")\n",
    "plt.xlabel(\"Max Depth\")\n",
    "plt.legend()"
   ]
  },
  {
   "cell_type": "markdown",
   "metadata": {},
   "source": [
    "En ambos casos, se obtuvieron resultado con un alto overfitting, \n",
    "se trato de solucionar el problema con una gran cantidad de hiper parametros\n",
    "sin lograr tener un ajuste correcto."
   ]
  },
  {
   "cell_type": "markdown",
   "metadata": {},
   "source": [
    "## 4. Bayesian Ridge Regression"
   ]
  },
  {
   "cell_type": "markdown",
   "metadata": {},
   "source": [
    "El bayaseian Ridge regression es otro método lineal  que utiliza el análisis\n",
    "estadistico sobre el concepto de interferencia bayesiana."
   ]
  },
  {
   "cell_type": "code",
   "execution_count": 69,
   "metadata": {},
   "outputs": [
    {
     "name": "stdout",
     "output_type": "stream",
     "text": [
      "Train:  192 Test:  48\n"
     ]
    }
   ],
   "source": [
    "CarDataSet = GetCleanDataSet()\n",
    "\n",
    "Labels, Atributes = split_labels(CarDataSet)\n",
    "\n",
    "trainAtributes, testAtributes, trainLabels, testLabels = train_test_split(\n",
    "    Atributes, Labels, test_size=0.20)\n",
    "print(\"Train: \",len(trainAtributes),\"Test: \",len(testAtributes))"
   ]
  },
  {
   "cell_type": "code",
   "execution_count": 73,
   "metadata": {},
   "outputs": [
    {
     "data": {
      "text/plain": [
       "<matplotlib.legend.Legend at 0xf115588>"
      ]
     },
     "execution_count": 73,
     "metadata": {},
     "output_type": "execute_result"
    },
    {
     "data": {
      "image/png": "[encoded data removed]",
      "text/plain": [
       "<Figure size 432x288 with 1 Axes>"
      ]
     },
     "metadata": {
      "needs_background": "light"
     },
     "output_type": "display_data"
    }
   ],
   "source": [
    "training_acc = []\n",
    "test_acc = []\n",
    "\n",
    "alphas = np.arange(0.001, 1, 0.001)\n",
    "for alpha in alphas:\n",
    "    #modelo\n",
    "    LogRegr = LinealModel.BayesianRidge(alpha_1=alpha, alpha_2=alpha, normalize=True)\n",
    "    LogRegr.fit(trainAtributes,trainLabels)\n",
    "    #training score\n",
    "    training_acc.append(LogRegr.score(trainAtributes, trainLabels))\n",
    "    #test score\n",
    "    test_acc.append(LogRegr.score(testAtributes, testLabels))\n",
    "plt.plot(alphas, training_acc, label=\"Training accuracy\")\n",
    "plt.plot(alphas, test_acc, label=\"Test accuracy\")\n",
    "plt.ylabel(\"Accuracy\")\n",
    "plt.xlabel(\"Alpha\")\n",
    "plt.legend()"
   ]
  },
  {
   "cell_type": "markdown",
   "metadata": {},
   "source": [
    "Para este método variar los alphas, no altero el rendimiento del algoritmo. Sin embargo el resultado del mismo es aceptable. Ya que no presente overfitting y el score es alto."
   ]
  },
  {
   "cell_type": "markdown",
   "metadata": {},
   "source": [
    "## 5.Support Vector Machines Regression"
   ]
  },
  {
   "cell_type": "code",
   "execution_count": 78,
   "metadata": {},
   "outputs": [
    {
     "name": "stdout",
     "output_type": "stream",
     "text": [
      "Train:  192 Test:  48\n"
     ]
    }
   ],
   "source": [
    "CarDataSet = GetCleanDataSet()\n",
    "\n",
    "Labels, Atributes = split_labels(CarDataSet)\n",
    "\n",
    "trainAtributes, testAtributes, trainLabels, testLabels = train_test_split(\n",
    "    Atributes, Labels, test_size=0.20)\n",
    "print(\"Train: \",len(trainAtributes),\"Test: \",len(testAtributes))"
   ]
  },
  {
   "cell_type": "markdown",
   "metadata": {},
   "source": [
    "Para este caso se utilizan diferentes kernels con el objetivo de determinar \n",
    "rendimiento\n"
   ]
  },
  {
   "cell_type": "code",
   "execution_count": 80,
   "metadata": {},
   "outputs": [
    {
     "name": "stdout",
     "output_type": "stream",
     "text": [
      "Kernel:  linear Training score 0.8495222845138443\n",
      "kernel:  linear Test score 0.8397494186937864\n",
      "Kernel:  rbf Training score -0.10037525460151375\n",
      "kernel:  rbf Test score -0.1065209097858153\n"
     ]
    }
   ],
   "source": [
    "kernels = ['linear', 'rbf']\n",
    "for kernel in kernels:\n",
    "    #modelo\n",
    "    clf = svm.SVR(gamma='auto', kernel=kernel)\n",
    "    clf.fit(trainAtributes, trainLabels) \n",
    "    #training score\n",
    "    print(\"Kernel: \", kernel, \"Training score\", clf.score(trainAtributes, trainLabels))\n",
    "    #test score\n",
    "    print(\"kernel: \", kernel, \"Test score\", clf.score(testAtributes, testLabels))"
   ]
  },
  {
   "cell_type": "markdown",
   "metadata": {},
   "source": [
    "Para este caso, el kernel lineal presento un buen resultado, acorde a los demás \n",
    "métodos lineales que hemos utilizado. Sin embargo el kernel de rbf al ser no \n",
    "lineal presento un score muy malo. "
   ]
  },
  {
   "cell_type": "markdown",
   "metadata": {},
   "source": [
    "## Métodos de Emsamble"
   ]
  },
  {
   "cell_type": "markdown",
   "metadata": {},
   "source": [
    "El objetivo de los métodos de ensamblaje es combinar predicciones de varios \n",
    "estimadores creados a partir de un algoritmo de inteligencia artificial\n",
    "para así aumentar la generalización y la robustes sobre un solo estimados.\n",
    "\n",
    "Existen todos tipos de emsables.\n",
    "\n",
    "Métodos de promediado y métodos de mejora.\n",
    "\n",
    "En los métodos de promediado se utilizan varios estimadores de forma\n",
    "independiente y luego se promedian sus predicciones.\n",
    "\n",
    "En los métodos de mejora, los estimadores se construyen secuencialmente \n",
    "y se intenta reducir el sesgo del estimador combinandolo con otros."
   ]
  },
  {
   "cell_type": "markdown",
   "metadata": {},
   "source": [
    "## 6. Gradiaent Tree Boosting Regression"
   ]
  },
  {
   "cell_type": "markdown",
   "metadata": {},
   "source": [
    "El método GRBT es una generelización de la potenciación de lost funtions. Utiliza un procedimiento preciso y efectivo que se puede utilizar tanto para regresión como para clasificación. Entre sus ventajas es que posee un manejo natural de datos de tipo mixto, gran robustez y buen poder de predicción. Y entre sus problemas es su poca escalabilidad, debido a la naturaleza secuencial \n",
    "que además la hace poco acta para paralelizar. "
   ]
  },
  {
   "cell_type": "markdown",
   "metadata": {},
   "source": [
    "Veamos un ejemplo, con nuestro ya conocido dataset:"
   ]
  },
  {
   "cell_type": "code",
   "execution_count": 81,
   "metadata": {},
   "outputs": [
    {
     "name": "stdout",
     "output_type": "stream",
     "text": [
      "Train:  192 Test:  48\n"
     ]
    }
   ],
   "source": [
    "CarDataSet = GetCleanDataSet()\n",
    "\n",
    "Labels, Atributes = split_labels(CarDataSet)\n",
    "\n",
    "trainAtributes, testAtributes, trainLabels, testLabels = train_test_split(\n",
    "    Atributes, Labels, test_size=0.20)\n",
    "print(\"Train: \",len(trainAtributes),\"Test: \",len(testAtributes))"
   ]
  },
  {
   "cell_type": "code",
   "execution_count": 82,
   "metadata": {},
   "outputs": [
    {
     "data": {
      "text/plain": [
       "<matplotlib.legend.Legend at 0xc4a1550>"
      ]
     },
     "execution_count": 82,
     "metadata": {},
     "output_type": "execute_result"
    },
    {
     "data": {
      "image/png": "[encoded data removed]",
      "text/plain": [
       "<Figure size 432x288 with 1 Axes>"
      ]
     },
     "metadata": {
      "needs_background": "light"
     },
     "output_type": "display_data"
    }
   ],
   "source": [
    "training_acc = []\n",
    "test_acc = []\n",
    "\n",
    "numEstimators = np.arange(1, 1000, 1)\n",
    "for estimator in numEstimators:\n",
    "    #modelo\n",
    "    GradRegr = GradientBoostingRegressor(n_estimators=estimator, learning_rate=1,\n",
    "    max_depth=1, random_state=0, loss='ls')\n",
    "    GradRegr.fit(trainAtributes,trainLabels)\n",
    "    #training score\n",
    "    training_acc.append(GradRegr.score(trainAtributes, trainLabels))\n",
    "    #test score\n",
    "    test_acc.append(GradRegr.score(testAtributes, testLabels))\n",
    "plt.plot(numEstimators, training_acc, label=\"Training accuracy\")\n",
    "plt.plot(numEstimators, test_acc, label=\"Test accuracy\")\n",
    "plt.ylabel(\"Accuracy\")\n",
    "plt.xlabel(\"Estimators\")\n",
    "plt.legend()"
   ]
  },
  {
   "cell_type": "markdown",
   "metadata": {},
   "source": [
    "Variando solo la cantidad de estimadores, se obtuvo un resultado\n",
    "con un alto overfitting. Vamos a ajustar el learning rate, para tratar\n",
    "de reducir el mismo"
   ]
  },
  {
   "cell_type": "code",
   "execution_count": 83,
   "metadata": {},
   "outputs": [
    {
     "data": {
      "text/plain": [
       "<matplotlib.legend.Legend at 0xda40358>"
      ]
     },
     "execution_count": 83,
     "metadata": {},
     "output_type": "execute_result"
    },
    {
     "data": {
      "image/png": "[encoded data removed]",
      "text/plain": [
       "<Figure size 432x288 with 1 Axes>"
      ]
     },
     "metadata": {
      "needs_background": "light"
     },
     "output_type": "display_data"
    }
   ],
   "source": [
    "training_acc = []\n",
    "test_acc = []\n",
    "\n",
    "learningRates = np.arange(0.001, 1, 0.001)\n",
    "for rate in learningRates:\n",
    "    #modelo\n",
    "    GradRegr = GradientBoostingRegressor(n_estimators=100, learning_rate=rate,\n",
    "    max_depth=1, random_state=0, loss='ls')\n",
    "    GradRegr.fit(trainAtributes,trainLabels)\n",
    "    #training score\n",
    "    training_acc.append(GradRegr.score(trainAtributes, trainLabels))\n",
    "    #test score\n",
    "    test_acc.append(GradRegr.score(testAtributes, testLabels))\n",
    "plt.plot(learningRates, training_acc, label=\"Training accuracy\")\n",
    "plt.plot(learningRates, test_acc, label=\"Test accuracy\")\n",
    "plt.ylabel(\"Accuracy\")\n",
    "plt.xlabel(\"Learning Rate\")\n",
    "plt.legend()"
   ]
  },
  {
   "cell_type": "markdown",
   "metadata": {},
   "source": [
    "Ajustando el learning rate se redujo el overfitting considerablemente. Por lo que el método si brindo una estimación buena pero con un poco de overfitting."
   ]
  }
 ],
 "metadata": {
  "kernelspec": {
   "display_name": "Python 3",
   "language": "python",
   "name": "python3"
  },
  "language_info": {
   "codemirror_mode": {
    "name": "ipython",
    "version": 3
   },
   "file_extension": ".py",
   "mimetype": "text/x-python",
   "name": "python",
   "nbconvert_exporter": "python",
   "pygments_lexer": "ipython3",
   "version": "3.7.3"
  }
 },
 "nbformat": 4,
 "nbformat_minor": 2
}
